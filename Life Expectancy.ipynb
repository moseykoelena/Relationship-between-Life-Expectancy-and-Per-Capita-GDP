{
  "nbformat": 4,
  "nbformat_minor": 0,
  "metadata": {
    "colab": {
      "name": "Untitled0.ipynb",
      "provenance": [],
      "authorship_tag": "ABX9TyNpHWCKo5WAnTsMLTI2EwKO"
    },
    "kernelspec": {
      "name": "python3",
      "display_name": "Python 3"
    },
    "language_info": {
      "name": "python"
    }
  },
  "cells": [
    {
      "cell_type": "markdown",
      "source": [
        "### Relationship between Life Expectancy and Per Capita GDP\n",
        "\n",
        "Exploring the relationship between life expectancy and the natural log of per capita gdp from gapminder dataset. \n",
        "First I will create a scatter plot displaying the relationship between the the natural log of per capita gdp and life expectancy for 2018 data, with the color of points in the plot determined by the continent information.\n",
        "Then I will generate a figure that separates the points for each of the continents into its own subplot."
      ],
      "metadata": {
        "id": "EjTU595DxU_8"
      }
    },
    {
      "cell_type": "code",
      "source": [
        "import pandas as pd\n",
        "df = pd.read_csv('gapminder_data.txt', sep='\\t') \n",
        "country = df.country.values\n",
        "year = df.year.values\n",
        "continent = df.continent.values\n",
        "population = df.population.values\n",
        "life_exp = df.life_exp.values\n",
        "pcgdp = df.gdp_per_cap.values\n",
        "gini = df.gini.values\n",
        "df = None"
      ],
      "metadata": {
        "id": "UOhaopW_0I5m"
      },
      "execution_count": null,
      "outputs": []
    },
    {
      "cell_type": "code",
      "source": [
        "continent_list = ['africa', 'asia', 'americas', 'europe']\n",
        "color_list = ['blue', 'green', 'red', 'orange']"
      ],
      "metadata": {
        "id": "slAcRjojxQJJ"
      },
      "execution_count": null,
      "outputs": []
    },
    {
      "cell_type": "code",
      "source": [
        "plt.figure(figsize=[8,6])\n",
        "for i in range(0, len(continent_list)):\n",
        "    sel = ((year == 2018) & (continent == continent_list[i]))\n",
        "    current_continent = continent_list[i]\n",
        "    \n",
        "    plt.scatter(x=numpy.log(pcgdp[sel]), y=life_exp[sel], s=100, alpha=0.7,\n",
        "                color=color_list[i], edgecolor='black', label=current_continent.title())\n",
        "\n",
        "plt.xlabel('Natural Log of Per Capita GDP')\n",
        "plt.ylabel('Life Expectancy')\n",
        "plt.title('Life Expectency vs Per Capita GDP (2018)')\n",
        "plt.legend()\n",
        "plt.show()"
      ],
      "metadata": {
        "id": "mr6mBIXwxS_Z"
      },
      "execution_count": null,
      "outputs": []
    },
    {
      "cell_type": "code",
      "source": [
        "plt.figure(figsize=[10,8])\n",
        "for i in range(0,len(continent_list)):\n",
        "    plt.subplot(2,2,i+1)\n",
        "    sel = ((year == 2018) & (continent == continent_list[i]))\n",
        "    current_continent = continent_list[i]\n",
        "    plt.scatter(x=numpy.log(pcgdp[sel]), y=life_exp[sel], s=100, alpha=0.7,\n",
        "                color=color_list[i], edgecolor='black')\n",
        "    \n",
        "    plt.xlim([6, 12])\n",
        "    plt.ylim([45, 90])\n",
        "    plt.xlabel('Natural Log of Per Capita GDP')\n",
        "    plt.ylabel('Life Expectancy')\n",
        "    plt.title('Life Expectancy vs Per Capita GDP (' + current_continent.title() + ', 2018)')\n",
        "\n",
        "plt.tight_layout()\n",
        "plt.show()"
      ],
      "metadata": {
        "id": "SpHDw4jDyn1G"
      },
      "execution_count": null,
      "outputs": []
    }
  ]
}